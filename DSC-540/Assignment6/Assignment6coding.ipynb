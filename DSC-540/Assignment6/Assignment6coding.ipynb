{
 "cells": [
  {
   "cell_type": "code",
   "execution_count": 12,
   "id": "f4f8e64a",
   "metadata": {},
   "outputs": [
    {
     "name": "stderr",
     "output_type": "stream",
     "text": [
      "C:\\Users\\David\\anaconda3\\lib\\site-packages\\skfuzzy\\control\\fuzzyvariable.py:122: UserWarning: Matplotlib is currently using module://ipykernel.pylab.backend_inline, which is a non-GUI backend, so cannot show the figure.\n",
      "  fig.show()\n"
     ]
    },
    {
     "data": {
      "image/png": "[encoded data removed]",
      "text/plain": [
       "<Figure size 432x288 with 1 Axes>"
      ]
     },
     "metadata": {
      "needs_background": "light"
     },
     "output_type": "display_data"
    }
   ],
   "source": [
    "# Assignment 6\n",
    "# Author: David Bui\n",
    "# DSC-540\n",
    "# Date: 12/08/2021\n",
    "# Description: Fuzzy Model applications.\n",
    "\n",
    "import numpy as np\n",
    "import pandas as pd\n",
    "import matplotlib\n",
    "import matplotlib.pyplot as plt\n",
    "import skfuzzy as fuzz\n",
    "from skfuzzy import control as ctrl\n",
    "\n",
    "#--------------------- Problem 1 -------------------------\n",
    "x1 = np.linspace(-10, 10, 21).astype(int)\n",
    "x2 = np.linspace(-10, 10, 21).astype(int)\n",
    "x1 = x1[x1 != 0]\n",
    "x2 = x2[x2 != 0]\n",
    "x1mf = fuzz.trimf(x1,[-11,0,11])\n",
    "x2mf = fuzz.trimf(x2,[-11,0,11])\n",
    "\n",
    "# Antecedents\n",
    "A1 = ctrl.Antecedent(np.arange(-10, 11, 1), 'x1')\n",
    "A2 = ctrl.Antecedent(np.arange(-10, 11, 1), 'x2')\n",
    "A1.automf(3)\n",
    "A2.automf(3)\n",
    "\n",
    "# The peak of our model is pleateaued due to the fact that our sinc function doesn't allow 0's.\n",
    "A2.view() # A1 is the exact same."
   ]
  },
  {
   "cell_type": "code",
   "execution_count": 2,
   "id": "89455745",
   "metadata": {},
   "outputs": [],
   "source": [
    "# Consequent\n",
    "sinc = np.outer(np.sin(x1), np.sin(x2)) / np.outer(x1, x2)\n",
    "sinc *= 100\n",
    "\n",
    "# Calculated all inputs for y = sinc(x1,x2)\n",
    "sincmf = fuzz.trimf(sinc.flatten(),[sinc.min(),27,sinc.max()])\n",
    "\n",
    "y = ctrl.Consequent(sincmf,'sinc(x1,x2)')\n",
    "y.automf(3)\n"
   ]
  },
  {
   "cell_type": "code",
   "execution_count": 3,
   "id": "f2d4de81",
   "metadata": {},
   "outputs": [
    {
     "name": "stdout",
     "output_type": "stream",
     "text": [
      "y =  Consequent: sinc(x1,x2)\n"
     ]
    }
   ],
   "source": [
    "# Showing the y connecting to the rules.\n",
    "print(\"y = \",y)"
   ]
  },
  {
   "cell_type": "code",
   "execution_count": 4,
   "id": "3caaf3dd",
   "metadata": {},
   "outputs": [
    {
     "data": {
      "text/plain": [
       "<bound method Rule.view of IF x1[poor] AND x2[average] THEN sinc(x1,x2)[average]\n",
       "\tAND aggregation function : fmin\n",
       "\tOR aggregation function  : fmax>"
      ]
     },
     "execution_count": 4,
     "metadata": {},
     "output_type": "execute_result"
    }
   ],
   "source": [
    "# Fuzzy Ruling\n",
    "rule1 = ctrl.Rule(A1['poor'] & A2['average'], y['average'])#y = sinc(x,y)\n",
    "rule2 = ctrl.Rule(A1['poor'] or A2['good'], y['poor'])\n",
    "rule1.view"
   ]
  },
  {
   "cell_type": "code",
   "execution_count": 18,
   "id": "15b7dc22",
   "metadata": {},
   "outputs": [
    {
     "name": "stdout",
     "output_type": "stream",
     "text": [
      "Everything seems to be working, I just don't know how to print out the output...... \n"
     ]
    }
   ],
   "source": [
    "# Fuzzy inference system\n",
    "sys_ctrl = ctrl.ControlSystem([rule1,rule2])\n",
    "sys = ctrl.ControlSystemSimulation(sys_ctrl)\n",
    "sys.input['x1'] = x1[3]\n",
    "sys.input['x2'] = x2[13]\n",
    "sys.compute()\n",
    "\n",
    "sys.input['x1'] = x1mf[3]\n",
    "sys.input['x2'] = x2mf[13]\n",
    "# I'm using the control skfuzzy package, here is a link https://pythonhosted.org/scikit-fuzzy/api/skfuzzy.control.html\n",
    "# It does not show how to print out the output!!!!!! I'm going crazy...\n",
    "print(\"Everything seems to be working, I just don't know how to print out the output...... \")"
   ]
  },
  {
   "cell_type": "code",
   "execution_count": 6,
   "id": "9779bd02",
   "metadata": {},
   "outputs": [
    {
     "name": "stdout",
     "output_type": "stream",
     "text": [
      "Parameters of y:\n",
      "Output of y1 =  [[0.02081879]] \n",
      "Output of y2 =  [[-0.16138139]]\n"
     ]
    }
   ],
   "source": [
    "# due to the frustration above, I ended up just manually doing it.\n",
    "# First example\n",
    "\n",
    "#Fuzzy Rule 1\n",
    "# If x1 is 'low' AND x2 is 'average' Then y is 'average'\n",
    "x1, x2 = -9, 2\n",
    "x1mf, x2mf = 0.09, 0.82\n",
    "mf1 = max(x1mf, x2mf)\n",
    "y1 = np.outer(np.sin(x1), np.sin(x2)) / np.outer(x1, x2)\n",
    " \n",
    "# Fuzzy Rule 2\n",
    "# If x1 is 'low' OR x2 is 'high' Then y is 'low'\n",
    "x1, x2 = -5, 1\n",
    "x1mf, x2mf = 0.55, 0.91\n",
    "mf2 =  min(x1mf, x2mf)\n",
    "y2 = np.outer(np.sin(x1), np.sin(x2)) / np.outer(x1, x2)\n",
    "\n",
    "# If desired we can calculate the weight of each rule, with the correct parameters.\n",
    "print(\"Parameters of y:\\nOutput of y1 = \",y1,\"\\nOutput of y2 = \", y2)"
   ]
  },
  {
   "cell_type": "code",
   "execution_count": 7,
   "id": "405dff9e",
   "metadata": {},
   "outputs": [
    {
     "name": "stderr",
     "output_type": "stream",
     "text": [
      "C:\\Users\\David\\anaconda3\\lib\\site-packages\\skfuzzy\\control\\fuzzyvariable.py:122: UserWarning: Matplotlib is currently using module://ipykernel.pylab.backend_inline, which is a non-GUI backend, so cannot show the figure.\n",
      "  fig.show()\n"
     ]
    },
    {
     "data": {
      "image/png": "[encoded data removed]",
      "text/plain": [
       "<Figure size 432x288 with 1 Axes>"
      ]
     },
     "metadata": {
      "needs_background": "light"
     },
     "output_type": "display_data"
    }
   ],
   "source": [
    "# Problem 2\n",
    "# Here is a graphical interpretation of this problem.\n",
    "# y = ((1+x1)^.5 + (x2)^-1 + (x3)^-1.5)^2 if we expand this problem out, we end up with 6 distinct terms\n",
    "# This results in 6 rules needing to be discovered. \n",
    "# We can also utilize the s and z function memberships to find our membership functions. We can also use a triangular function\n",
    "# as I previously used.\n",
    "mf = ctrl.Consequent(np.arange(0, 7, 1), 'Membership')\n",
    "mf['A1'] = fuzz.smf(mf.universe, 0, 6)\n",
    "mf['A2'] = fuzz.zmf(mf.universe, 0, 6)\n",
    "mf.view()"
   ]
  },
  {
   "cell_type": "code",
   "execution_count": 21,
   "id": "fe6ea731",
   "metadata": {},
   "outputs": [
    {
     "name": "stdout",
     "output_type": "stream",
     "text": [
      "mf1:  1.0 \n",
      "mf2:  1.0\n"
     ]
    }
   ],
   "source": [
    "# Membership functions. \n",
    "x = np.arange(0, 7, 1) # since there are 6 rules.\n",
    "\n",
    "mf1 = fuzz.membership.smf(x,1,2)\n",
    "mf2 = fuzz.membership.zmf(x,4,6)\n",
    "\n",
    "# Here reflects the point of UNITY \n",
    "# 3 came from the graph above.\n",
    "print(\"mf1: \",fuzz.interp_membership(x, mf1, 3),\"\\nmf2: \",fuzz.interp_membership(x, mf2, 3))\n",
    "# With percise inputs, we can compare the weight of each rule\n",
    "\n",
    "# The method I was previously trying to use to obtain the parameters to do so resulted in a dead end. Which brought me to this \n",
    "# illustration."
   ]
  },
  {
   "cell_type": "code",
   "execution_count": null,
   "id": "1e59e56a",
   "metadata": {},
   "outputs": [],
   "source": [
    "# The 6 rules for ANFIS\n",
    "# if x1 is A1 and x2 is A1 and x3 is A1 Then y = ((1+x1)^.5 + (x2)^-1 + (x3)^-1.5)^2\n",
    "# if x1 is A1 and x2 is A1 and x3 is A1 Then y = ((1+x1)^.5 + (x2)^-1 + (x3)^-1.5)^2\n",
    "# if x1 is A1 and x2 is A1 and x3 is A1 Then y = ((1+x1)^.5 + (x2)^-1 + (x3)^-1.5)^2\n",
    "# if x1 is A2 and x2 is A1 and x3 is A1 Then y = ((1+x1)^.5 + (x2)^-1 + (x3)^-1.5)^2\n",
    "# if x1 is A2 and x2 is A1 and x3 is A1 Then y = ((1+x1)^.5 + (x2)^-1 + (x3)^-1.5)^2\n",
    "# if x1 is A2 and x2 is A1 and x3 is A1 Then y = ((1+x1)^.5 + (x2)^-1 + (x3)^-1.5)^2"
   ]
  }
 ],
 "metadata": {
  "kernelspec": {
   "display_name": "Python 3",
   "language": "python",
   "name": "python3"
  },
  "language_info": {
   "codemirror_mode": {
    "name": "ipython",
    "version": 3
   },
   "file_extension": ".py",
   "mimetype": "text/x-python",
   "name": "python",
   "nbconvert_exporter": "python",
   "pygments_lexer": "ipython3",
   "version": "3.8.8"
  }
 },
 "nbformat": 4,
 "nbformat_minor": 5
}
