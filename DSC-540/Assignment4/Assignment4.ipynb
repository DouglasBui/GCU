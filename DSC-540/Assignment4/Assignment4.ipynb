{
 "cells": [
  {
   "cell_type": "code",
   "execution_count": 24,
   "id": "c344ee93",
   "metadata": {},
   "outputs": [
    {
     "data": {
      "image/png": "[encoded data removed]",
      "text/plain": [
       "<Figure size 432x288 with 1 Axes>"
      ]
     },
     "metadata": {
      "needs_background": "light"
     },
     "output_type": "display_data"
    }
   ],
   "source": [
    "# Assignment 4\n",
    "# Author: David Bui\n",
    "# DSC-540\n",
    "# Date: 11/24/2021\n",
    "\n",
    "# Python program showing Graphical \n",
    "# representation of sinc() function \n",
    "import numpy as np \n",
    "import matplotlib.pyplot as plt \n",
    "from sklearn.svm import SVR\n",
    "import seaborn as sns\n",
    "from sklearn.model_selection import GridSearchCV\n",
    "from sklearn.metrics import mean_squared_error\n",
    "\n",
    "# a. Generate 50 data points from this function in the range [– 3, 3].\n",
    "actualdata = np.reshape(np.linspace(-3, 3, 50), (50,1))\n",
    "sincdata = np.sinc(np.linspace(-3, 3, 50))\n",
    "\n",
    "plt.plot(actualdata, sincdata, marker = \"o\") \n",
    "plt.title(\"Sinc() Transformation\") \n",
    "plt.xlabel(\"actualData\") \n",
    "plt.ylabel(\"Sinc(Data)\") \n",
    "plt.show() "
   ]
  },
  {
   "cell_type": "code",
   "execution_count": 25,
   "id": "2f231c91",
   "metadata": {},
   "outputs": [
    {
     "data": {
      "text/plain": [
       "array([-0.31725317, -0.53488543, -0.65406376,  1.07043406,  0.01701631,\n",
       "        0.97616144,  0.42947149,  0.13454372, -1.04880039, -0.14767362,\n",
       "       -0.01087949, -0.44657472, -0.4312768 ,  0.00626448, -0.38152132,\n",
       "       -0.46916364,  0.52717726, -1.02374374, -0.02697457,  0.43621326,\n",
       "        1.14347811,  0.83105061,  1.67440557,  0.93251767,  0.53491064,\n",
       "        1.02329028,  0.62731724,  1.253077  ,  0.99802416,  0.76879698,\n",
       "        0.38174499,  0.54493965,  1.01315026,  0.09294542,  0.05452691,\n",
       "       -0.21178463, -0.01259257, -0.02430273,  0.45556309, -0.14732509,\n",
       "        0.82661424, -0.54155311,  0.21999821, -0.05664508, -0.4833991 ,\n",
       "       -0.05841535,  0.54074974, -0.13084169,  0.0826314 ,  0.09452745])"
      ]
     },
     "execution_count": 25,
     "metadata": {},
     "output_type": "execute_result"
    }
   ],
   "source": [
    "# b. Add Gaussian noise to the data.\n",
    "noise = np.random.normal(0,0.5,50) #using normal since sinc is similar.\n",
    "testdata = sincdata + noise\n",
    "testdata"
   ]
  },
  {
   "cell_type": "code",
   "execution_count": 38,
   "id": "239d7948",
   "metadata": {},
   "outputs": [
    {
     "name": "stdout",
     "output_type": "stream",
     "text": [
      "Tuning hyper-parameters\n",
      "Grid scores on training set:\n",
      "-0.429 (+/-0.682) for {'C': 1, 'gamma': 0.0001, 'kernel': 'rbf'}\n",
      "-0.435 (+/-0.673) for {'C': 1, 'gamma': 0.001, 'kernel': 'rbf'}\n",
      "-0.508 (+/-0.602) for {'C': 1, 'gamma': 0.01, 'kernel': 'rbf'}\n",
      "-0.611 (+/-0.531) for {'C': 1, 'gamma': 0.1, 'kernel': 'rbf'}\n",
      "-0.630 (+/-0.583) for {'C': 1, 'gamma': 0.2, 'kernel': 'rbf'}\n",
      "-0.375 (+/-0.358) for {'C': 1, 'gamma': 0.5, 'kernel': 'rbf'}\n",
      "-0.339 (+/-0.309) for {'C': 1, 'gamma': 0.6, 'kernel': 'rbf'}\n",
      "-0.306 (+/-0.261) for {'C': 1, 'gamma': 0.9, 'kernel': 'rbf'}\n",
      "-0.435 (+/-0.673) for {'C': 10, 'gamma': 0.0001, 'kernel': 'rbf'}\n",
      "-0.511 (+/-0.591) for {'C': 10, 'gamma': 0.001, 'kernel': 'rbf'}\n",
      "-0.493 (+/-0.596) for {'C': 10, 'gamma': 0.01, 'kernel': 'rbf'}\n",
      "-1.039 (+/-1.216) for {'C': 10, 'gamma': 0.1, 'kernel': 'rbf'}\n",
      "-0.539 (+/-0.614) for {'C': 10, 'gamma': 0.2, 'kernel': 'rbf'}\n",
      "-0.352 (+/-0.424) for {'C': 10, 'gamma': 0.5, 'kernel': 'rbf'}\n",
      "-0.327 (+/-0.383) for {'C': 10, 'gamma': 0.6, 'kernel': 'rbf'}\n",
      "-0.465 (+/-0.494) for {'C': 10, 'gamma': 0.9, 'kernel': 'rbf'}\n",
      "-0.511 (+/-0.590) for {'C': 100, 'gamma': 0.0001, 'kernel': 'rbf'}\n",
      "-0.578 (+/-0.610) for {'C': 100, 'gamma': 0.001, 'kernel': 'rbf'}\n",
      "-0.757 (+/-0.584) for {'C': 100, 'gamma': 0.01, 'kernel': 'rbf'}\n",
      "-0.746 (+/-0.803) for {'C': 100, 'gamma': 0.1, 'kernel': 'rbf'}\n",
      "-0.798 (+/-1.386) for {'C': 100, 'gamma': 0.2, 'kernel': 'rbf'}\n",
      "-1.222 (+/-3.319) for {'C': 100, 'gamma': 0.5, 'kernel': 'rbf'}\n",
      "-1.246 (+/-2.712) for {'C': 100, 'gamma': 0.6, 'kernel': 'rbf'}\n",
      "-1.418 (+/-1.620) for {'C': 100, 'gamma': 0.9, 'kernel': 'rbf'}\n",
      "-0.601 (+/-0.621) for {'C': 1000, 'gamma': 0.0001, 'kernel': 'rbf'}\n",
      "-0.494 (+/-0.599) for {'C': 1000, 'gamma': 0.001, 'kernel': 'rbf'}\n",
      "-1.241 (+/-1.355) for {'C': 1000, 'gamma': 0.01, 'kernel': 'rbf'}\n",
      "-2.252 (+/-4.754) for {'C': 1000, 'gamma': 0.1, 'kernel': 'rbf'}\n",
      "-2.787 (+/-10.253) for {'C': 1000, 'gamma': 0.2, 'kernel': 'rbf'}\n",
      "-4.593 (+/-8.819) for {'C': 1000, 'gamma': 0.5, 'kernel': 'rbf'}\n",
      "-3.395 (+/-7.766) for {'C': 1000, 'gamma': 0.6, 'kernel': 'rbf'}\n",
      "-6.926 (+/-17.435) for {'C': 1000, 'gamma': 0.9, 'kernel': 'rbf'}\n",
      "-0.581 (+/-0.607) for {'C': 10000, 'gamma': 0.0001, 'kernel': 'rbf'}\n",
      "-0.733 (+/-0.592) for {'C': 10000, 'gamma': 0.001, 'kernel': 'rbf'}\n",
      "-2.701 (+/-5.312) for {'C': 10000, 'gamma': 0.01, 'kernel': 'rbf'}\n",
      "-8.145 (+/-24.525) for {'C': 10000, 'gamma': 0.1, 'kernel': 'rbf'}\n",
      "-6.066 (+/-20.533) for {'C': 10000, 'gamma': 0.2, 'kernel': 'rbf'}\n",
      "-13.804 (+/-46.484) for {'C': 10000, 'gamma': 0.5, 'kernel': 'rbf'}\n",
      "-30.081 (+/-69.617) for {'C': 10000, 'gamma': 0.6, 'kernel': 'rbf'}\n",
      "-124.665 (+/-456.705) for {'C': 10000, 'gamma': 0.9, 'kernel': 'rbf'}\n"
     ]
    }
   ],
   "source": [
    "# c.Train an SVM regressor with the data generated in (a). Define (and explain) suitable parameters required for training the regressor. \n",
    "# incrementing parameters for cross-validation\n",
    "K = 5 # 5-fold cross valiations\n",
    "\n",
    "parameters = [{'kernel': ['rbf'], 'gamma': [1e-4, 1e-3, 0.01, 0.1, 0.2, 0.5, 0.6, 0.9],'C': [1, 10, 100, 1000, 10000]}]\n",
    "print(\"Tuning hyper-parameters\")\n",
    "\n",
    "from sklearn.metrics import make_scorer\n",
    "scorer = make_scorer(mean_squared_error, greater_is_better=False)\n",
    "svm = GridSearchCV(SVR(epsilon = 0.01), parameters, cv = K, scoring=scorer)\n",
    "\n",
    "svm.fit(actualdata, testdata)\n",
    "\n",
    "# Checking the score for all parameters\n",
    "print(\"Grid scores on training set:\")\n",
    "means = svm.cv_results_['mean_test_score']\n",
    "stds = svm.cv_results_['std_test_score']\n",
    "for mean, std, params in zip(means, stds, svm.cv_results_['params']):\n",
    "    print(\"%0.3f (+/-%0.03f) for %r\"% (mean, std * 2, params))"
   ]
  },
  {
   "cell_type": "code",
   "execution_count": 42,
   "id": "0cabe39c",
   "metadata": {},
   "outputs": [
    {
     "name": "stdout",
     "output_type": "stream",
     "text": [
      "R-squared: -3.3873274308495094\n",
      "MSE: 3.308173372727058\n"
     ]
    },
    {
     "data": {
      "text/plain": [
       "{'cv': 5,\n",
       " 'error_score': nan,\n",
       " 'estimator__C': 1.0,\n",
       " 'estimator__cache_size': 200,\n",
       " 'estimator__coef0': 0.0,\n",
       " 'estimator__degree': 3,\n",
       " 'estimator__epsilon': 0.01,\n",
       " 'estimator__gamma': 'scale',\n",
       " 'estimator__kernel': 'rbf',\n",
       " 'estimator__max_iter': -1,\n",
       " 'estimator__shrinking': True,\n",
       " 'estimator__tol': 0.001,\n",
       " 'estimator__verbose': False,\n",
       " 'estimator': SVR(epsilon=0.01),\n",
       " 'n_jobs': None,\n",
       " 'param_grid': [{'kernel': ['rbf'],\n",
       "   'gamma': [0.0001, 0.001, 0.01, 0.1, 0.2, 0.5, 0.6, 0.9],\n",
       "   'C': [1, 10, 100, 1000, 10000]}],\n",
       " 'pre_dispatch': '2*n_jobs',\n",
       " 'refit': True,\n",
       " 'return_train_score': False,\n",
       " 'scoring': make_scorer(mean_squared_error, greater_is_better=False),\n",
       " 'verbose': 0}"
      ]
     },
     "execution_count": 42,
     "metadata": {},
     "output_type": "execute_result"
    }
   ],
   "source": [
    "# summary of the best parameters. The most important to note are the epsilon and\n",
    "#   model C. Seeing how they play the largest impact on the accuracy of our model.\n",
    "\n",
    "score = svm.score(testdata.reshape(-1,1),actualdata)\n",
    "print(\"R-squared:\", score)\n",
    "print(\"MSE:\", mean_squared_error(testdata.reshape(-1,1),actualdata.reshape(-1,1)))\n",
    "svm.get_params()"
   ]
  },
  {
   "cell_type": "code",
   "execution_count": null,
   "id": "b49a8366",
   "metadata": {},
   "outputs": [],
   "source": [
    "# d. Describe the functionality of the regressor.\n",
    "# This regressor depicts an optimization of a margin or line that would best serve\n",
    "#   as a threshold for classification. Yet here I am using the accuracy of my\n",
    "#   predictions as a form of evaluation for that margin."
   ]
  },
  {
   "cell_type": "code",
   "execution_count": null,
   "id": "8f6b92b8",
   "metadata": {},
   "outputs": [],
   "source": [
    "# e. Discuss the potential use of the regressor and quantify its accuracy.\n",
    "# This has a wide variety of implementations, especially for binary classification\n",
    "#   It provides an alternative to the bayesian method and could possibly out\n",
    "#   perform it. "
   ]
  }
 ],
 "metadata": {
  "kernelspec": {
   "display_name": "Python 3",
   "language": "python",
   "name": "python3"
  },
  "language_info": {
   "codemirror_mode": {
    "name": "ipython",
    "version": 3
   },
   "file_extension": ".py",
   "mimetype": "text/x-python",
   "name": "python",
   "nbconvert_exporter": "python",
   "pygments_lexer": "ipython3",
   "version": "3.8.8"
  }
 },
 "nbformat": 4,
 "nbformat_minor": 5
}
