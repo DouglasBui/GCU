{
 "cells": [
  {
   "cell_type": "code",
   "execution_count": 1,
   "id": "7d4e689f",
   "metadata": {},
   "outputs": [
    {
     "data": {
      "text/html": [
       "<div>\n",
       "<style scoped>\n",
       "    .dataframe tbody tr th:only-of-type {\n",
       "        vertical-align: middle;\n",
       "    }\n",
       "\n",
       "    .dataframe tbody tr th {\n",
       "        vertical-align: top;\n",
       "    }\n",
       "\n",
       "    .dataframe thead th {\n",
       "        text-align: right;\n",
       "    }\n",
       "</style>\n",
       "<table border=\"1\" class=\"dataframe\">\n",
       "  <thead>\n",
       "    <tr style=\"text-align: right;\">\n",
       "      <th></th>\n",
       "      <th>Number</th>\n",
       "      <th>Image1</th>\n",
       "      <th>Image2</th>\n",
       "      <th>Image3</th>\n",
       "      <th>Image4</th>\n",
       "      <th>Image5</th>\n",
       "      <th>Image6</th>\n",
       "      <th>Image7</th>\n",
       "      <th>Image8</th>\n",
       "      <th>Image9</th>\n",
       "      <th>...</th>\n",
       "      <th>Image775</th>\n",
       "      <th>Image776</th>\n",
       "      <th>Image777</th>\n",
       "      <th>Image778</th>\n",
       "      <th>Image779</th>\n",
       "      <th>Image780</th>\n",
       "      <th>Image781</th>\n",
       "      <th>Image782</th>\n",
       "      <th>Image783</th>\n",
       "      <th>Image784</th>\n",
       "    </tr>\n",
       "  </thead>\n",
       "  <tbody>\n",
       "    <tr>\n",
       "      <th>0</th>\n",
       "      <td>5</td>\n",
       "      <td>0</td>\n",
       "      <td>0</td>\n",
       "      <td>0</td>\n",
       "      <td>0</td>\n",
       "      <td>0</td>\n",
       "      <td>0</td>\n",
       "      <td>0</td>\n",
       "      <td>0</td>\n",
       "      <td>0</td>\n",
       "      <td>...</td>\n",
       "      <td>0</td>\n",
       "      <td>0</td>\n",
       "      <td>0</td>\n",
       "      <td>0</td>\n",
       "      <td>0</td>\n",
       "      <td>0</td>\n",
       "      <td>0</td>\n",
       "      <td>0</td>\n",
       "      <td>0</td>\n",
       "      <td>0</td>\n",
       "    </tr>\n",
       "  </tbody>\n",
       "</table>\n",
       "<p>1 rows × 785 columns</p>\n",
       "</div>"
      ],
      "text/plain": [
       "   Number  Image1  Image2  Image3  Image4  Image5  Image6  Image7  Image8  \\\n",
       "0       5       0       0       0       0       0       0       0       0   \n",
       "\n",
       "   Image9  ...  Image775  Image776  Image777  Image778  Image779  Image780  \\\n",
       "0       0  ...         0         0         0         0         0         0   \n",
       "\n",
       "   Image781  Image782  Image783  Image784  \n",
       "0         0         0         0         0  \n",
       "\n",
       "[1 rows x 785 columns]"
      ]
     },
     "execution_count": 1,
     "metadata": {},
     "output_type": "execute_result"
    }
   ],
   "source": [
    "# Assignment1\n",
    "# Author: David Bui\n",
    "# DSC-540\n",
    "# Date: 11/3/2021\n",
    "# Data Pulled From: https://pjreddie.com/projects/mnist-in-csv/\n",
    "# Description: Implementation of the K-Nearest Neighbor Algorithm or K-NN. Each observation within the\n",
    "#  dataset represents an image that depicts a number ranging from 0 to 9. The algorithm learns the \n",
    "#  patterns of each number and then predicts against actual measures.\n",
    "\n",
    "import numpy as np\n",
    "import pandas as pd\n",
    "import matplotlib.pyplot as plt\n",
    "import seaborn as sns\n",
    "import sklearn as sk\n",
    "\n",
    "# Pulling split data, Number and Image column names added.\n",
    "train = pd.read_csv(r'C:\\Users\\David\\OneDrive\\Desktop\\GCU Studies\\DSC-540\\Topic 2\\Assignment\\Data\\mnist_train.csv')\n",
    "test = pd.read_csv(r'C:\\Users\\David\\OneDrive\\Desktop\\GCU Studies\\DSC-540\\Topic 2\\Assignment\\Data\\mnist_test.csv')\n",
    "mnist = pd.concat([train, test],ignore_index=True)\n",
    "mnist.head(1)"
   ]
  },
  {
   "cell_type": "code",
   "execution_count": 2,
   "id": "06d07ceb",
   "metadata": {},
   "outputs": [
    {
     "data": {
      "text/html": [
       "<div>\n",
       "<style scoped>\n",
       "    .dataframe tbody tr th:only-of-type {\n",
       "        vertical-align: middle;\n",
       "    }\n",
       "\n",
       "    .dataframe tbody tr th {\n",
       "        vertical-align: top;\n",
       "    }\n",
       "\n",
       "    .dataframe thead th {\n",
       "        text-align: right;\n",
       "    }\n",
       "</style>\n",
       "<table border=\"1\" class=\"dataframe\">\n",
       "  <thead>\n",
       "    <tr style=\"text-align: right;\">\n",
       "      <th></th>\n",
       "      <th>Number</th>\n",
       "      <th>Image13</th>\n",
       "      <th>Image14</th>\n",
       "      <th>Image15</th>\n",
       "      <th>Image16</th>\n",
       "      <th>Image33</th>\n",
       "      <th>Image34</th>\n",
       "      <th>Image35</th>\n",
       "      <th>Image36</th>\n",
       "      <th>Image37</th>\n",
       "      <th>...</th>\n",
       "      <th>Image771</th>\n",
       "      <th>Image772</th>\n",
       "      <th>Image773</th>\n",
       "      <th>Image774</th>\n",
       "      <th>Image775</th>\n",
       "      <th>Image776</th>\n",
       "      <th>Image777</th>\n",
       "      <th>Image778</th>\n",
       "      <th>Image779</th>\n",
       "      <th>Image780</th>\n",
       "    </tr>\n",
       "  </thead>\n",
       "  <tbody>\n",
       "    <tr>\n",
       "      <th>0</th>\n",
       "      <td>5</td>\n",
       "      <td>0</td>\n",
       "      <td>0</td>\n",
       "      <td>0</td>\n",
       "      <td>0</td>\n",
       "      <td>0</td>\n",
       "      <td>0</td>\n",
       "      <td>0</td>\n",
       "      <td>0</td>\n",
       "      <td>0</td>\n",
       "      <td>...</td>\n",
       "      <td>0</td>\n",
       "      <td>0</td>\n",
       "      <td>0</td>\n",
       "      <td>0</td>\n",
       "      <td>0</td>\n",
       "      <td>0</td>\n",
       "      <td>0</td>\n",
       "      <td>0</td>\n",
       "      <td>0</td>\n",
       "      <td>0</td>\n",
       "    </tr>\n",
       "  </tbody>\n",
       "</table>\n",
       "<p>1 rows × 720 columns</p>\n",
       "</div>"
      ],
      "text/plain": [
       "   Number  Image13  Image14  Image15  Image16  Image33  Image34  Image35  \\\n",
       "0       5        0        0        0        0        0        0        0   \n",
       "\n",
       "   Image36  Image37  ...  Image771  Image772  Image773  Image774  Image775  \\\n",
       "0        0        0  ...         0         0         0         0         0   \n",
       "\n",
       "   Image776  Image777  Image778  Image779  Image780  \n",
       "0         0         0         0         0         0  \n",
       "\n",
       "[1 rows x 720 columns]"
      ]
     },
     "execution_count": 2,
     "metadata": {},
     "output_type": "execute_result"
    }
   ],
   "source": [
    "# Dimensional Reduction\n",
    "for col in mnist.columns:\n",
    "    if len(mnist[col].unique()) == 1:\n",
    "        mnist.drop(col,inplace=True,axis=1)\n",
    "mnist.head(1)"
   ]
  },
  {
   "cell_type": "code",
   "execution_count": 3,
   "id": "104defdb",
   "metadata": {},
   "outputs": [],
   "source": [
    "from sklearn.model_selection import train_test_split\n",
    "# Instantiate vector variables\n",
    "X_mnist = mnist.iloc[: , 1:]\n",
    "y_mnist = mnist.iloc[: , :1]\n",
    "\n",
    "# Splitting data into train and test sets, its a 80% to 20% split\n",
    "# From researching I learned that a 7:3 or 8:2 ratio is a good split for prediction testing.\n",
    "X, X_test, y, y_test = train_test_split(X_mnist, y_mnist, test_size=0.2, random_state=1)"
   ]
  },
  {
   "cell_type": "code",
   "execution_count": 4,
   "id": "9012d222",
   "metadata": {},
   "outputs": [
    {
     "data": {
      "text/plain": [
       "KNeighborsClassifier(n_neighbors=10)"
      ]
     },
     "execution_count": 4,
     "metadata": {},
     "output_type": "execute_result"
    }
   ],
   "source": [
    "# Implementing the KNN algorithm\n",
    "from sklearn.neighbors import KNeighborsClassifier\n",
    "knn = KNeighborsClassifier(n_neighbors = 10)\n",
    "\n",
    "# Fit the classifier to the data\n",
    "knn.fit(X,y.values.ravel())"
   ]
  },
  {
   "cell_type": "code",
   "execution_count": 19,
   "id": "ac5148a7",
   "metadata": {},
   "outputs": [
    {
     "name": "stdout",
     "output_type": "stream",
     "text": [
      "Distance between same elements within training and test sets: 2109.4515874985136\n"
     ]
    }
   ],
   "source": [
    "# Define the Euclidean distance between an element in the test set and the training set.\n",
    "from scipy.spatial import distance\n",
    "# Euclidean Distance: the distance between two elements.\n",
    "train_element = X.loc[[2]] # Number 4\n",
    "test_element = X_test.loc[[59772]] # Also Number 4\n",
    "\n",
    "distance = distance.euclidean(X.loc[[2]],test_element)\n",
    "print(\"Distance between same elements within training and test sets:\",distance)"
   ]
  },
  {
   "cell_type": "code",
   "execution_count": 20,
   "id": "8bc0debc",
   "metadata": {},
   "outputs": [
    {
     "name": "stdout",
     "output_type": "stream",
     "text": [
      "Distances to nearest neighbors: [[ 843.50222288  905.22870038  961.80039509  989.68479831  990.4584797\n",
      "  1022.27882694 1047.9460864  1069.49614305 1075.32320723 1076.81660463]]\n"
     ]
    }
   ],
   "source": [
    "# Calculate the distance between the test element and each of if its k nearest neighbors.\n",
    "from sklearn.neighbors import NearestNeighbors\n",
    "neighbors = NearestNeighbors(n_neighbors=10)\n",
    "neighbors.fit(X,y)\n",
    "NearestNeighbors(algorithm='auto', leaf_size=30)\n",
    "ndist,indexN = neighbors.kneighbors(test_element)\n",
    "print(\"Distances to nearest neighbors:\",ndist)"
   ]
  },
  {
   "cell_type": "code",
   "execution_count": 81,
   "id": "964f25ca",
   "metadata": {},
   "outputs": [
    {
     "data": {
      "text/plain": [
       "[       Number\n",
       " 26111       4\n",
       " 6361        7\n",
       " 3390        2\n",
       " 27389       3\n",
       " 37370       6\n",
       " 38938       4\n",
       " 54139       9\n",
       " 43486       2\n",
       " 33919       6\n",
       " 37423       7]"
      ]
     },
     "execution_count": 81,
     "metadata": {},
     "output_type": "execute_result"
    }
   ],
   "source": [
    "# Count the occurrence of each digit within the k nearest neighbors and identify the most popular digit.\n",
    "from collections import Counter\n",
    "array = []\n",
    "number = indexN.tolist()\n",
    "for i in range(len(number)):\n",
    "    array.append(y_mnist.loc[number[i]])\n",
    "array # This array reflects the distance of each neighbor in decending order, the next step is to measure frequency.\n",
    "# The frequency has higher priority over the distance, hence popular vote. In case of a draw, distance is the deciding factor."
   ]
  },
  {
   "cell_type": "code",
   "execution_count": 85,
   "id": "e67ee0a2",
   "metadata": {},
   "outputs": [
    {
     "data": {
      "text/plain": [
       "Counter({4: 2, 7: 2, 2: 2, 3: 1, 6: 2, 9: 1})"
      ]
     },
     "execution_count": 85,
     "metadata": {},
     "output_type": "execute_result"
    }
   ],
   "source": [
    "# Identify the test element as the digit voted as most popular in the set of the k nearest neighbors.\n",
    "Counter([4,7,2,3,6,4,9,2,6,7]) # I did this because the method I used involving ndist,indexN broke the array and made it immutable\n",
    "# the nearestneighbor function ordered the distancing first, and the counter ordered the frequency 2nd.\n",
    "# This leaves number 4 as the most frequent and nearest neighbor."
   ]
  },
  {
   "cell_type": "code",
   "execution_count": 107,
   "id": "4a6d0014",
   "metadata": {},
   "outputs": [
    {
     "data": {
      "text/html": [
       "<div>\n",
       "<style scoped>\n",
       "    .dataframe tbody tr th:only-of-type {\n",
       "        vertical-align: middle;\n",
       "    }\n",
       "\n",
       "    .dataframe tbody tr th {\n",
       "        vertical-align: top;\n",
       "    }\n",
       "\n",
       "    .dataframe thead th {\n",
       "        text-align: right;\n",
       "    }\n",
       "</style>\n",
       "<table border=\"1\" class=\"dataframe\">\n",
       "  <thead>\n",
       "    <tr style=\"text-align: right;\">\n",
       "      <th></th>\n",
       "      <th>Number</th>\n",
       "    </tr>\n",
       "  </thead>\n",
       "  <tbody>\n",
       "    <tr>\n",
       "      <th>59772</th>\n",
       "      <td>4</td>\n",
       "    </tr>\n",
       "  </tbody>\n",
       "</table>\n",
       "</div>"
      ],
      "text/plain": [
       "       Number\n",
       "59772       4"
      ]
     },
     "execution_count": 107,
     "metadata": {},
     "output_type": "execute_result"
    }
   ],
   "source": [
    "# Classify the test element accordingly (i.e. based on the popular vote).\n",
    "predict = 4\n",
    "actual = y_test.loc[[59772]]\n",
    "actual\n",
    "# Prediciton correct."
   ]
  },
  {
   "cell_type": "code",
   "execution_count": 109,
   "id": "465aaed8",
   "metadata": {},
   "outputs": [
    {
     "name": "stdout",
     "output_type": "stream",
     "text": [
      "0.03192857142857142\n"
     ]
    }
   ],
   "source": [
    "# Calculate the error.\n",
    "# check accuracy of our model on the test data\n",
    "y_pred = knn.predict(X_test)\n",
    "\n",
    "accur = knn.score(X_test, y_test) # Above 95% accuracy!\n",
    "error = 1-accur\n",
    "print(error)"
   ]
  },
  {
   "cell_type": "code",
   "execution_count": 112,
   "id": "a34976c3",
   "metadata": {},
   "outputs": [
    {
     "name": "stdout",
     "output_type": "stream",
     "text": [
      "Mean Cross-Validation Accuracy: 0.9650892857142856\n"
     ]
    }
   ],
   "source": [
    "# K-Fold Cross-Validation Method\n",
    "from sklearn.model_selection import cross_val_score\n",
    "\n",
    "#train model with cv of 5 \n",
    "cv_scores = cross_val_score(knn, X, y.values.ravel(), cv=5)\n",
    "\n",
    "#print each cv score (accuracy) and average them\n",
    "print(\"Mean Cross-Validation Accuracy:\",np.mean(cv_scores))# Also above 95%!"
   ]
  },
  {
   "cell_type": "code",
   "execution_count": 125,
   "id": "754b7f89",
   "metadata": {},
   "outputs": [
    {
     "name": "stdout",
     "output_type": "stream",
     "text": [
      " Actual:  0     1     2     3     4     5     6     7     8     9\n"
     ]
    },
    {
     "data": {
      "text/plain": [
       "array([[1370,    1,    3,    1,    0,    1,    2,    1,    0,    1],\n",
       "       [   1, 1622,    5,    2,    0,    0,    1,    1,    0,    0],\n",
       "       [  13,   14, 1372,    3,    2,    0,    1,   19,    6,    3],\n",
       "       [   2,    6,    7, 1371,    0,    8,    3,   14,   10,   10],\n",
       "       [   0,   11,    1,    0, 1284,    0,    1,    6,    0,   25],\n",
       "       [   1,    4,    1,   13,    2, 1254,   11,    0,    3,    8],\n",
       "       [   5,    1,    0,    0,    2,    8, 1315,    0,    0,    0],\n",
       "       [   2,   21,    2,    0,    2,    0,    0, 1404,    1,   12],\n",
       "       [   8,   23,    1,    8,    6,   25,    7,    3, 1250,   20],\n",
       "       [   2,    8,    3,    8,   12,    2,    1,   22,    4, 1311]],\n",
       "      dtype=int64)"
      ]
     },
     "execution_count": 125,
     "metadata": {},
     "output_type": "execute_result"
    }
   ],
   "source": [
    "# Confusion Matrix\n",
    "from sklearn import metrics\n",
    "\n",
    "#labels=[\"0\",\"1\",\"2\",\"3\",\"4\",\"5\",\"6\",\"7\",\"8\",\"9\"]\n",
    "print(\" Actual:  0     1     2     3     4     5     6     7     8     9\")\n",
    "metrics.confusion_matrix(y_test, y_pred)"
   ]
  },
  {
   "cell_type": "code",
   "execution_count": null,
   "id": "caffec56",
   "metadata": {},
   "outputs": [],
   "source": []
  }
 ],
 "metadata": {
  "kernelspec": {
   "display_name": "Python 3",
   "language": "python",
   "name": "python3"
  },
  "language_info": {
   "codemirror_mode": {
    "name": "ipython",
    "version": 3
   },
   "file_extension": ".py",
   "mimetype": "text/x-python",
   "name": "python",
   "nbconvert_exporter": "python",
   "pygments_lexer": "ipython3",
   "version": "3.8.8"
  }
 },
 "nbformat": 4,
 "nbformat_minor": 5
}
